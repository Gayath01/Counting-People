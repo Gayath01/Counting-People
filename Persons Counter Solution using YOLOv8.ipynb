{
  "cells": [
    {
      "cell_type": "code",
      "source": [
        "# Install Python dependencies: Flask, OpenCV, YOLOv8\n",
        "!pip install --quiet flask opencv-python-headless ultralytics\n"
      ],
      "metadata": {
        "id": "Q8TUult1H5NA"
      },
      "execution_count": 52,
      "outputs": []
    },
    {
      "cell_type": "code",
      "source": [
        "%%bash\n",
        "# Create the folder structure\n",
        "mkdir -p app/templates app/static\n",
        "\n",
        "# index.html (upload form)\n",
        "cat > app/templates/index.html << 'EOF'\n",
        "<!DOCTYPE html>\n",
        "<html lang=\"en\">\n",
        "<head>\n",
        "  <meta charset=\"utf-8\">\n",
        "  <title>People Counter</title>\n",
        "  <meta name=\"viewport\" content=\"width=device-width,initial-scale=1\">\n",
        "  <script src=\"https://cdn.tailwindcss.com\"></script>\n",
        "  <link rel=\"stylesheet\"\n",
        "        href=\"https://cdnjs.cloudflare.com/ajax/libs/animate.css/4.1.1/animate.min.css\"/>\n",
        "</head>\n",
        "<body class=\"min-h-screen bg-gradient-to-r from-blue-200 via-purple-200 to-pink-200\n",
        "             flex items-center justify-center p-4\">\n",
        "  <div class=\"bg-white bg-opacity-80 rounded-2xl p-8 shadow-xl w-full max-w-sm\n",
        "              animate__animated animate__fadeInUp\">\n",
        "    <h1 class=\"text-3xl font-bold text-gray-800 text-center mb-6\">👥 People Counter</h1>\n",
        "    {% if error %}\n",
        "      <p class=\"text-red-600 text-center mb-4\">{{ error }}</p>\n",
        "    {% endif %}\n",
        "    <form action=\"/\" method=\"post\" enctype=\"multipart/form-data\" class=\"space-y-4\">\n",
        "      <input type=\"file\" name=\"file\" accept=\"image/*\" required\n",
        "             class=\"block w-full text-gray-700 file:py-2 file:px-4\n",
        "                    file:rounded-full file:bg-indigo-600 file:text-white\n",
        "                    hover:file:bg-indigo-700 transition\"/>\n",
        "      <button type=\"submit\"\n",
        "              class=\"w-full py-2 bg-indigo-600 hover:bg-indigo-700 text-white font-semibold\n",
        "                     rounded-full transform hover:scale-105 transition\">\n",
        "        Upload & Detect\n",
        "      </button>\n",
        "    </form>\n",
        "  </div>\n",
        "</body>\n",
        "</html>\n",
        "EOF\n",
        "\n",
        "# result.html (only annotated image + count)\n",
        "cat > app/templates/result.html << 'EOF'\n",
        "<!DOCTYPE html>\n",
        "<html lang=\"en\">\n",
        "<head>\n",
        "  <meta charset=\"utf-8\">\n",
        "  <title>Detection Result</title>\n",
        "  <meta name=\"viewport\" content=\"width=device-width,initial-scale=1\">\n",
        "  <script src=\"https://cdn.tailwindcss.com\"></script>\n",
        "  <link rel=\"stylesheet\"\n",
        "        href=\"https://cdnjs.cloudflare.com/ajax/libs/animate.css/4.1.1/animate.min.css\"/>\n",
        "</head>\n",
        "<body class=\"min-h-screen bg-gradient-to-r from-blue-200 via-purple-200 to-pink-200\n",
        "             flex items-center justify-center p-4\">\n",
        "  <div class=\"bg-white bg-opacity-90 rounded-2xl p-8 shadow-xl w-full max-w-md\n",
        "              animate__animated animate__zoomIn\">\n",
        "    <h2 class=\"text-2xl font-bold text-gray-800 mb-6\">👀 People Detected: {{ count }}</h2>\n",
        "    <img src=\"{{ annotated_url }}\" alt=\"Annotated\"\n",
        "         class=\"mx-auto rounded-lg shadow-md w-full mb-6\"/>\n",
        "    <a href=\"/\" class=\"inline-block px-6 py-2 bg-indigo-600 hover:bg-indigo-700 text-white\n",
        "                       font-semibold rounded-full transform hover:rotate-3 transition\">\n",
        "      Try Another\n",
        "    </a>\n",
        "  </div>\n",
        "</body>\n",
        "</html>\n",
        "EOF\n"
      ],
      "metadata": {
        "id": "4Fiiv0D-H5zH"
      },
      "execution_count": 53,
      "outputs": []
    },
    {
      "cell_type": "code",
      "source": [
        "%%bash\n",
        "# Create the folder structure\n",
        "mkdir -p app/templates app/static\n",
        "\n",
        "# index.html (upload form)\n",
        "cat > app/templates/index.html << 'EOF'\n",
        "<!DOCTYPE html>\n",
        "<html lang=\"en\">\n",
        "<head>\n",
        "  <meta charset=\"utf-8\">\n",
        "  <title>People Counter</title>\n",
        "  <meta name=\"viewport\" content=\"width=device-width,initial-scale=1\">\n",
        "  <script src=\"https://cdn.tailwindcss.com\"></script>\n",
        "  <link rel=\"stylesheet\"\n",
        "        href=\"https://cdnjs.cloudflare.com/ajax/libs/animate.css/4.1.1/animate.min.css\"/>\n",
        "</head>\n",
        "<body class=\"min-h-screen bg-gradient-to-r from-blue-200 via-purple-200 to-pink-200\n",
        "             flex items-center justify-center p-4\">\n",
        "  <div class=\"bg-white bg-opacity-80 rounded-2xl p-8 shadow-xl w-full max-w-sm\n",
        "              animate__animated animate__fadeInUp\">\n",
        "    <h1 class=\"text-3xl font-bold text-gray-800 text-center mb-6\">👥 People Counter</h1>\n",
        "    {% if error %}\n",
        "      <p class=\"text-red-600 text-center mb-4\">{{ error }}</p>\n",
        "    {% endif %}\n",
        "    <form action=\"/\" method=\"post\" enctype=\"multipart/form-data\" class=\"space-y-4\">\n",
        "      <input type=\"file\" name=\"file\" accept=\"image/*\" required\n",
        "             class=\"block w-full text-gray-700 file:py-2 file:px-4\n",
        "                    file:rounded-full file:bg-indigo-600 file:text-white\n",
        "                    hover:file:bg-indigo-700 transition\"/>\n",
        "      <button type=\"submit\"\n",
        "              class=\"w-full py-2 bg-indigo-600 hover:bg-indigo-700 text-white font-semibold\n",
        "                     rounded-full transform hover:scale-105 transition\">\n",
        "        Upload & Detect\n",
        "      </button>\n",
        "    </form>\n",
        "  </div>\n",
        "</body>\n",
        "</html>\n",
        "EOF\n",
        "\n",
        "# result.html (only annotated image + count)\n",
        "cat > app/templates/result.html << 'EOF'\n",
        "<!DOCTYPE html>\n",
        "<html lang=\"en\">\n",
        "<head>\n",
        "  <meta charset=\"utf-8\">\n",
        "  <title>Detection Result</title>\n",
        "  <meta name=\"viewport\" content=\"width=device-width,initial-scale=1\">\n",
        "  <script src=\"https://cdn.tailwindcss.com\"></script>\n",
        "  <link rel=\"stylesheet\"\n",
        "        href=\"https://cdnjs.cloudflare.com/ajax/libs/animate.css/4.1.1/animate.min.css\"/>\n",
        "</head>\n",
        "<body class=\"min-h-screen bg-gradient-to-r from-blue-200 via-purple-200 to-pink-200\n",
        "             flex items-center justify-center p-4\">\n",
        "  <div class=\"bg-white bg-opacity-90 rounded-2xl p-8 shadow-xl w-full max-w-md\n",
        "              animate__animated animate__zoomIn\">\n",
        "    <h2 class=\"text-2xl font-bold text-gray-800 mb-6\">👀 People Detected: {{ count }}</h2>\n",
        "    <img src=\"{{ annotated_url }}\" alt=\"Annotated\"\n",
        "         class=\"mx-auto rounded-lg shadow-md w-full mb-6\"/>\n",
        "    <a href=\"/\" class=\"inline-block px-6 py-2 bg-indigo-600 hover:bg-indigo-700 text-white\n",
        "                       font-semibold rounded-full transform hover:rotate-3 transition\">\n",
        "      Try Another\n",
        "    </a>\n",
        "  </div>\n",
        "</body>\n",
        "</html>\n",
        "EOF\n"
      ],
      "metadata": {
        "id": "4obvLKVqH9KM"
      },
      "execution_count": 55,
      "outputs": []
    },
    {
      "cell_type": "code",
      "source": [
        "%%bash\n",
        "# Write the YOLOv8 detector module\n",
        "cat > app/people_detector.py << 'EOF'\n",
        "import cv2, os\n",
        "from ultralytics import YOLO\n",
        "\n",
        "# Load YOLOv8-nano model once\n",
        "model = YOLO('yolov8n.pt')\n",
        "\n",
        "def detect_people(image_path):\n",
        "    img = cv2.imread(image_path)\n",
        "    if img is None:\n",
        "        return 0, image_path, {}\n",
        "    results = model(image_path)[0]\n",
        "    boxes   = results.boxes.xyxy\n",
        "    classes = results.boxes.cls\n",
        "\n",
        "    annotated = img.copy()\n",
        "    count = 0\n",
        "    for box, cls in zip(boxes, classes):\n",
        "        if int(cls) == 0:  # person class\n",
        "            x1, y1, x2, y2 = map(int, box)\n",
        "            cv2.rectangle(annotated, (x1, y1), (x2, y2), (0,255,0), 2)\n",
        "            count += 1\n",
        "\n",
        "    base = os.path.basename(image_path)\n",
        "    out_path = os.path.join(os.path.dirname(image_path), 'annotated_' + base)\n",
        "    cv2.imwrite(out_path, annotated)\n",
        "    return count, out_path, {}\n",
        "EOF\n"
      ],
      "metadata": {
        "id": "ISaflURJH-nm"
      },
      "execution_count": 56,
      "outputs": []
    },
    {
      "cell_type": "code",
      "source": [
        "%%bash\n",
        "# Write the Flask app\n",
        "cat > app/app.py << 'EOF'\n",
        "from flask import Flask, render_template, request, url_for\n",
        "from werkzeug.utils import secure_filename\n",
        "import os\n",
        "from people_detector import detect_people\n",
        "\n",
        "app = Flask(__name__, static_folder='static', template_folder='templates')\n",
        "UPLOAD_FOLDER = os.path.join(app.root_path, 'static')\n",
        "os.makedirs(UPLOAD_FOLDER, exist_ok=True)\n",
        "\n",
        "@app.route('/', methods=['GET','POST'])\n",
        "def index():\n",
        "    if request.method == 'POST':\n",
        "        file = request.files.get('file')\n",
        "        if not file or file.filename == '':\n",
        "            return render_template('index.html', error='Please choose an image.')\n",
        "        fname = secure_filename(file.filename)\n",
        "        in_path = os.path.join(UPLOAD_FOLDER, fname)\n",
        "        file.save(in_path)\n",
        "\n",
        "        count, out_path, _ = detect_people(in_path)\n",
        "        ann_url = url_for('static', filename=os.path.basename(out_path))\n",
        "        return render_template('result.html', count=count, annotated_url=ann_url)\n",
        "    return render_template('index.html')\n",
        "\n",
        "if __name__ == '__main__':\n",
        "    app.run(host='0.0.0.0', port=5000, debug=True)\n",
        "EOF\n"
      ],
      "metadata": {
        "id": "3AEfi6QjIBSx"
      },
      "execution_count": 57,
      "outputs": []
    },
    {
      "cell_type": "code",
      "source": [
        "%%bash\n",
        "# Download & install cloudflared CLI\n",
        "wget -qO cloudflared.deb \\\n",
        "  https://github.com/cloudflare/cloudflared/releases/latest/download/cloudflared-linux-amd64.deb\n",
        "apt-get update -qq\n",
        "apt-get install -qq -y ./cloudflared.deb\n"
      ],
      "metadata": {
        "id": "5xB6LY59IDCF",
        "outputId": "19c7f7e3-e8ce-474d-98ad-1dea95d34cff",
        "colab": {
          "base_uri": "https://localhost:8080/"
        }
      },
      "execution_count": 58,
      "outputs": [
        {
          "output_type": "stream",
          "name": "stderr",
          "text": [
            "W: Skipping acquire of configured file 'main/source/Sources' as repository 'https://r2u.stat.illinois.edu/ubuntu jammy InRelease' does not seem to provide it (sources.list entry misspelt?)\n"
          ]
        }
      ]
    },
    {
      "cell_type": "code",
      "source": [
        "%%bash\n",
        "# Start Flask in the background and give it a moment\n",
        "nohup python app/app.py > flask.log 2>&1 &\n",
        "sleep 3\n",
        "echo \"🔄 Flask server started; logs → flask.log\"\n"
      ],
      "metadata": {
        "id": "9V8MBJClIFYs",
        "outputId": "2e0ded18-e844-418c-f461-5f645aa79f18",
        "colab": {
          "base_uri": "https://localhost:8080/"
        }
      },
      "execution_count": 59,
      "outputs": [
        {
          "output_type": "stream",
          "name": "stdout",
          "text": [
            "🔄 Flask server started; logs → flask.log\n"
          ]
        }
      ]
    },
    {
      "cell_type": "code",
      "source": [
        "import subprocess, re\n",
        "\n",
        "# Launch cloudflared tunnel and capture its output\n",
        "proc = subprocess.Popen(\n",
        "    [\"cloudflared\", \"tunnel\", \"--url\", \"http://localhost:5000\"],\n",
        "    stdout=subprocess.PIPE, stderr=subprocess.STDOUT, text=True\n",
        ")\n",
        "\n",
        "public_url = None\n",
        "for line in proc.stdout:\n",
        "    if (m := re.search(r\"https?://[-\\w]+\\.trycloudflare\\.com\", line)):\n",
        "        public_url = m.group(0)\n",
        "        break\n",
        "\n",
        "if public_url:\n",
        "    print(f\"🌐 Public URL → {public_url}\")\n",
        "else:\n",
        "    print(\"❌ Failed to retrieve the tunnel URL. Check cloudflared installation.\")\n"
      ],
      "metadata": {
        "id": "2C8nf7VvIJ2v",
        "outputId": "7f1aae4d-9a51-43e1-cb18-09e4d8a74832",
        "colab": {
          "base_uri": "https://localhost:8080/"
        }
      },
      "execution_count": 60,
      "outputs": [
        {
          "output_type": "stream",
          "name": "stdout",
          "text": [
            "🌐 Public URL → https://sewing-counting-southampton-us.trycloudflare.com\n"
          ]
        }
      ]
    }
  ],
  "metadata": {
    "colab": {
      "name": "Welcome To Colab",
      "provenance": []
    },
    "kernelspec": {
      "display_name": "Python 3",
      "name": "python3"
    }
  },
  "nbformat": 4,
  "nbformat_minor": 0
}